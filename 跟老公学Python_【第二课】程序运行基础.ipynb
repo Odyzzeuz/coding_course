{
  "nbformat": 4,
  "nbformat_minor": 0,
  "metadata": {
    "colab": {
      "provenance": []
    },
    "kernelspec": {
      "name": "python3",
      "display_name": "Python 3"
    },
    "language_info": {
      "name": "python"
    }
  },
  "cells": [
    {
      "cell_type": "code",
      "execution_count": null,
      "metadata": {
        "id": "ykRSRjxG5m01"
      },
      "outputs": [],
      "source": [
        "# 【基本运算符】\n",
        "a = 5\n",
        "b = 2\n",
        "\n",
        "# 加减乘法比较容易理解，除法有些复杂\n",
        "sum = a+b\n",
        "difference = a-b\n",
        "product = a*b\n",
        "\n",
        "# a除以b的准确结果\n",
        "c = a/b\n",
        "\n",
        "# a整除b之后的余数，学名modulo\n",
        "d = a%b\n",
        "\n",
        "# a整除b之后的商\n",
        "e = a//b\n",
        "\n",
        "print(c, d, e)"
      ]
    },
    {
      "cell_type": "code",
      "source": [
        "# modulo%运算在有负数参与时的运算方式\n",
        "# (-5) / 4 = -1.25 -> floor(-1.25) = -2\n",
        "# (-5) % 4 = (-2 × 4 + 3) % 4 = 3.\n",
        "a = -5\n",
        "b = 4\n",
        "c = a%b\n",
        "c"
      ],
      "metadata": {
        "id": "FMAL2WLvAE3R"
      },
      "execution_count": null,
      "outputs": []
    },
    {
      "cell_type": "code",
      "source": [
        "# 【比较运算】\n",
        "a = 5\n",
        "b = 2\n",
        "print(a == b)\n",
        "print(a < b)\n",
        "print(a > b)"
      ],
      "metadata": {
        "id": "YGqGyqhX_ibD",
        "outputId": "49a762cf-992a-47cf-d4b1-1546a9fc1943",
        "colab": {
          "base_uri": "https://localhost:8080/"
        }
      },
      "execution_count": null,
      "outputs": [
        {
          "output_type": "stream",
          "name": "stdout",
          "text": [
            "False\n",
            "False\n",
            "True\n"
          ]
        }
      ]
    },
    {
      "cell_type": "code",
      "source": [
        "# 【+= type 运算符】\n",
        "# a += b  <=> a = a+b\n",
        "# a -= b  <=> a = a-b\n",
        "# a *= b  <=> a = a*b\n",
        "# a /= b  <=> a = a/b\n",
        "# a %= b  <=> a = a%b\n",
        "# a //= b  <=> a = a//b"
      ],
      "metadata": {
        "id": "PAM9s5aW7AD2"
      },
      "execution_count": null,
      "outputs": []
    },
    {
      "cell_type": "code",
      "source": [
        "# 【for loop】\n",
        "# 示例一： 已知应该循环n次时\n",
        "# 需要注意 range(n) 给出的 i 取值为 0,1,...,n-1\n",
        "n = 10\n",
        "for i in range(n):\n",
        "  print(i)"
      ],
      "metadata": {
        "id": "FH2CX2YV8ZRy"
      },
      "execution_count": null,
      "outputs": []
    },
    {
      "cell_type": "code",
      "source": [
        "# 需要注意循环次数取决于range()内表达式的值，之后不再产生变化，不会影响循环次数\n",
        "n = 5\n",
        "for i in range(n): # 在取出n值为5后，range(5) 即等效于 [0,1,2,3,4]，不再与n有任何关系\n",
        "  n += 1\n",
        "  print(f'n is {n}')\n",
        "  print(f'i is {i}')\n",
        "  print('-'*5)"
      ],
      "metadata": {
        "colab": {
          "base_uri": "https://localhost:8080/"
        },
        "id": "jExazBoyb4c1",
        "outputId": "bf8953dd-ac4b-43a9-c407-91331835f0d3"
      },
      "execution_count": 5,
      "outputs": [
        {
          "output_type": "stream",
          "name": "stdout",
          "text": [
            "n is 6\n",
            "i is 0\n",
            "-----\n",
            "n is 7\n",
            "i is 1\n",
            "-----\n",
            "n is 8\n",
            "i is 2\n",
            "-----\n",
            "n is 9\n",
            "i is 3\n",
            "-----\n",
            "n is 10\n",
            "i is 4\n",
            "-----\n"
          ]
        }
      ]
    },
    {
      "cell_type": "code",
      "source": [
        "# 示例二： 对一个列表里的每一个进行操作\n",
        "list_a = [1,2,3,4,5,6,7,8,9,10]\n",
        "for num in list_a:\n",
        "  print(num)"
      ],
      "metadata": {
        "id": "EwhAVr6p8uDz"
      },
      "execution_count": null,
      "outputs": []
    },
    {
      "cell_type": "code",
      "source": [
        "# 【Python tricks： 一行内使用for loop】\n",
        "list_a = [i+5 for i in range(5) if i%2 == 0]\n",
        "# 一行可以拆分成四行，大致逻辑分为三块：循环，判断条件，生成结果并放入列表\n",
        "list_a = []\n",
        "for i in range(5):\n",
        "  if i%2==0:\n",
        "    list_a.append(i+5)"
      ],
      "metadata": {
        "id": "H51Pnb2P_HES"
      },
      "execution_count": null,
      "outputs": []
    },
    {
      "cell_type": "code",
      "source": [
        "# 【while loop】\n",
        "# while loop特点为只要while后面的条件为True则会一直运行（break将在后面讲解）\n",
        "# 所以尽量不要使用while True的loop，会卡死程序\n",
        "n = 10\n",
        "while n>0:\n",
        "  print(n)\n",
        "  n -= 1"
      ],
      "metadata": {
        "id": "g9Twa7YSA4pC",
        "colab": {
          "base_uri": "https://localhost:8080/"
        },
        "outputId": "03a68f0e-4074-4479-cf7c-84ebfec8ed3e"
      },
      "execution_count": null,
      "outputs": [
        {
          "output_type": "stream",
          "name": "stdout",
          "text": [
            "10\n",
            "9\n",
            "8\n",
            "7\n",
            "6\n",
            "5\n",
            "4\n",
            "3\n",
            "2\n",
            "1\n"
          ]
        }
      ]
    },
    {
      "cell_type": "code",
      "source": [
        "# 【break 和 continue】\n",
        "# break 可以使得本层循环结束，直接执行循环之后的代码\n",
        "for i in range(10):\n",
        "  print(i)\n",
        "  if i == 6:\n",
        "    break # 如果i是6，循环结束，不玩了"
      ],
      "metadata": {
        "id": "jIaj4hBLBjdg"
      },
      "execution_count": null,
      "outputs": []
    },
    {
      "cell_type": "code",
      "source": [
        "# continue 为结束本次循环，跳过循环体内未执行的代码，直接执行下一次循环\n",
        "for i in range(4):\n",
        "  if i == 2: continue # 如果i是2的时候，跳过后面的代码直接进入i=3的循环\n",
        "  print(i)"
      ],
      "metadata": {
        "id": "czvOf5ufByad"
      },
      "execution_count": null,
      "outputs": []
    },
    {
      "cell_type": "code",
      "source": [
        "# 【作业一】使用for loop生成一个列表，内容为[1,2,3,...,100]\n"
      ],
      "metadata": {
        "id": "sYqDC7GP9Nx8"
      },
      "execution_count": null,
      "outputs": []
    },
    {
      "cell_type": "code",
      "source": [
        "# 【作业二】班主任有一个班上所有人名字的列表，但是首字母忘记大写了。现在使用一个for loop把列表里每一个人名首字母都大写。\n",
        "# names = [\"alice\", \"bob\", \"carpenter\", \"david\", \"eva\", \"forbes\"]\n",
        "# new_names = [\"Alice\", \"Bob\", \"Carpenter\", \"David\", \"Eva\", \"Forbes\"]\n",
        "# 小知识：大小写字母转换可以使用upper()和lower()方法:\n",
        "char_a = 'a'\n",
        "char_b = 'B'\n",
        "a_upper = char_a.upper()\n",
        "b_lower = char_b.lower()\n",
        "a_upper, b_lower"
      ],
      "metadata": {
        "id": "Cyj9qwkN9rSu",
        "colab": {
          "base_uri": "https://localhost:8080/"
        },
        "outputId": "6eaacd94-134f-4381-d171-4e1c0034cf8b"
      },
      "execution_count": null,
      "outputs": [
        {
          "output_type": "execute_result",
          "data": {
            "text/plain": [
              "('A', 'b')"
            ]
          },
          "metadata": {},
          "execution_count": 2
        }
      ]
    },
    {
      "cell_type": "code",
      "source": [
        "# 小提示，此处需对列表里的每一个进行操作，参考for loop的示例二\n",
        "names = [\"alice\", \"bob\", \"carpenter\", \"david\", \"eva\", \"forbes\"]"
      ],
      "metadata": {
        "id": "WSYgFjx1-wfm",
        "colab": {
          "base_uri": "https://localhost:8080/"
        },
        "outputId": "19f75240-36e3-4179-e03c-456475cda075"
      },
      "execution_count": null,
      "outputs": [
        {
          "output_type": "stream",
          "name": "stdout",
          "text": [
            "['Alice', 'Bob', 'Carpenter', 'David', 'Eva', 'Forbes']\n"
          ]
        }
      ]
    },
    {
      "cell_type": "code",
      "source": [
        "# 【作业三】使用while loop生成一个列表，内容为100到0的所有偶数：[100,98,96,...,4,2,0]\n"
      ],
      "metadata": {
        "id": "DOJoKfUqBSIh",
        "colab": {
          "base_uri": "https://localhost:8080/"
        },
        "outputId": "8843e385-b23f-43bd-ba32-f86c63bf59ce"
      },
      "execution_count": null,
      "outputs": [
        {
          "output_type": "stream",
          "name": "stdout",
          "text": [
            "[100, 98, 96, 94, 92, 90, 88, 86, 84, 82, 80, 78, 76, 74, 72, 70, 68, 66, 64, 62, 60, 58, 56, 54, 52, 50, 48, 46, 44, 42, 40, 38, 36, 34, 32, 30, 28, 26, 24, 22, 20, 18, 16, 14, 12, 10, 8, 6, 4, 2, 0]\n"
          ]
        }
      ]
    },
    {
      "cell_type": "code",
      "source": [
        "# 【作业四】leetcode经典入门题目https://leetcode.com/problems/two-sum/"
      ],
      "metadata": {
        "id": "zeH0ASKhDb2X"
      },
      "execution_count": null,
      "outputs": []
    },
    {
      "cell_type": "code",
      "source": [],
      "metadata": {
        "id": "bCReBmglbyPs"
      },
      "execution_count": null,
      "outputs": []
    }
  ]
}