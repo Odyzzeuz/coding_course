{
  "metadata": {
    "language_info": {
      "codemirror_mode": {
        "name": "python",
        "version": 3
      },
      "file_extension": ".py",
      "mimetype": "text/x-python",
      "name": "python",
      "nbconvert_exporter": "python",
      "pygments_lexer": "ipython3",
      "version": "3.8"
    },
    "kernelspec": {
      "name": "python",
      "display_name": "Pyolite",
      "language": "python"
    },
    "colab": {
      "provenance": []
    }
  },
  "nbformat_minor": 0,
  "nbformat": 4,
  "cells": [
    {
      "cell_type": "code",
      "source": [
        "# 【声明变量并初始化】\n",
        "# 等号左侧为变量名，需注意：\n",
        "# 变量名在同一个环境中不要重复使用（初学者容易弄混）。\n",
        "# 变量名不能数字开头，中间不能有空格。\n",
        "# Python的命名风格一般为用下划线隔开的小写词组（snake case）。变量名中可以使用大写字母 (Java 采用 camelCase)，但是一般的python coding style不会让变量名使用大写字母，除非是常量字符串等。\n",
        "name = \"Waffle\"\n",
        "# Python中可以批量初始化变量，用逗号隔开。\n",
        "birth_month, birth_date, birth_year = 3, 23, 2017"
      ],
      "metadata": {
        "trusted": true,
        "id": "UjXj4-dj5e1Z"
      },
      "execution_count": null,
      "outputs": []
    },
    {
      "cell_type": "code",
      "source": [
        "# 【整数 Integer】 取值可以为正数，负数，或 0\n",
        "age = 5\n",
        "owned_toys_number = 100\n",
        "\n",
        "# 浮点型数据 Float\n",
        "weight = 25.5 # 声明变量时只要有小数点就会自动生成浮点型\n",
        "sleep_hours = 18.0 # 注意，如果此处使用18则会生成整数"
      ],
      "metadata": {
        "id": "b2FByRKg5e1a"
      },
      "execution_count": null,
      "outputs": []
    },
    {
      "cell_type": "code",
      "source": [
        "# 【小知识】\n",
        "# 在Python3中有两种除法运算符\n",
        "# 第一种为 true division，符号为 /。特点是即使两个整数相除，可以得到小数结果。（与Python2不同，Python2中 3/2 = 1）\n",
        "a = 3\n",
        "b = 2\n",
        "c = a/b\n",
        "c"
      ],
      "metadata": {
        "trusted": true,
        "id": "_dMuhUUj5e1b",
        "outputId": "b20979c7-1643-4f0f-e0c3-236aeb150a2c",
        "colab": {
          "base_uri": "https://localhost:8080/"
        }
      },
      "execution_count": null,
      "outputs": [
        {
          "output_type": "execute_result",
          "data": {
            "text/plain": [
              "1.5"
            ]
          },
          "metadata": {},
          "execution_count": 3
        }
      ]
    },
    {
      "cell_type": "code",
      "source": [
        "# 第二种为 floor division，符号为 //。特点是结果会自动向下取整，不会有小数结果。\n",
        "# 但是需要注意的是，如果相除的两个数中有浮点型数据，结果会是浮点型数据，尽管小数点后是 0。\n",
        "# 比如下例中的d2（a是float，c是integer，结果向下取整为1，但依然是float，所以是1.0）。\n",
        "a = 3.0\n",
        "b = -3\n",
        "c = 2\n",
        "\n",
        "d1 = a//c\n",
        "d2 = b//c\n",
        "\n",
        "print(f\"d1 = {d1}, d2 = {d2}\")"
      ],
      "metadata": {
        "trusted": true,
        "id": "pJ_YPhYB5e1c",
        "outputId": "47788e04-7f2c-479c-e99e-72678fbb6749"
      },
      "execution_count": null,
      "outputs": [
        {
          "name": "stdout",
          "text": "d1 = 1.0, d2 = -2\n",
          "output_type": "stream"
        }
      ]
    },
    {
      "cell_type": "code",
      "source": [
        "# 【布尔变量 Boolean】取值为True 或者 False，对应Integer中的 1 或者 0。在声明变量时，可以将判断式放在等号右边。\n",
        "# 此类变量经常用作状态指示灯使用，比如在发生某事件后将某布尔变量触发成True，改变之后的运行。\n",
        "had_dinner = True\n",
        "feels_full = False\n",
        "\n",
        "a, b = 3, 2\n",
        "a_is_bigger_than_b = a > b\n",
        "print(had_dinner, feels_full, a_is_bigger_than_b)"
      ],
      "metadata": {
        "trusted": true,
        "id": "AMRFyuIb5e1d",
        "outputId": "7e52a031-f4f5-4c9a-86c2-1b19153eca0b"
      },
      "execution_count": null,
      "outputs": [
        {
          "name": "stdout",
          "text": "True False True\n",
          "output_type": "stream"
        }
      ]
    },
    {
      "cell_type": "code",
      "source": [
        "# 【字符 Character】取值为大小写字母，数字，和符号等。\n",
        "# 每一个字符都对应着ASCII表中的一个整数，可以用ord()和char()进行转换。\n",
        "char_a = 'a'\n",
        "char_a_ascii = ord(char_a)\n",
        "print(f\"The ASCII number of char_a is {char_a_ascii}.\")\n",
        "\n",
        "char_b_ascii = 105\n",
        "char_b = chr(char_b_ascii)\n",
        "print(f\"char_b is '{char_b}'\")"
      ],
      "metadata": {
        "trusted": true,
        "id": "6XjNfVZ75e1d",
        "outputId": "3fdab575-2e4b-4192-8feb-efb5cc638448"
      },
      "execution_count": null,
      "outputs": [
        {
          "name": "stdout",
          "text": "The ASCII number of char_a is 97.\nchar_b is 'i'\n",
          "output_type": "stream"
        }
      ]
    },
    {
      "cell_type": "code",
      "source": [
        "# 【字符串 String】由一串字符组成，可以为空，即 \"\"。\n",
        "# 如果在字符串中想要有双引号或某些其他符号，需要用反斜杠\\进行标注。\n",
        "whatever_variable_name = \"Hello World!\"\n",
        "empty_string = \"\"\n",
        "example_string = \"\\\"\"\n",
        "print(whatever_variable_name)\n",
        "print(empty_string)\n",
        "print(example_string)"
      ],
      "metadata": {
        "trusted": true,
        "id": "7uVCaXdI5e1e",
        "outputId": "26f02c15-7d2a-4b3b-9111-f9be1b7f33a1"
      },
      "execution_count": null,
      "outputs": [
        {
          "name": "stdout",
          "text": "Hello World!\n\n\"\n",
          "output_type": "stream"
        }
      ]
    },
    {
      "cell_type": "code",
      "source": [
        "# Python中字符串可以相加拼接\n",
        "string_a = \"what the\"\n",
        "string_b = \" hell\"\n",
        "\n",
        "string_c = string_a + string_b + \"!\"\n",
        "\n",
        "print(string_c)"
      ],
      "metadata": {
        "trusted": true,
        "id": "-VtdPkZF5e1e",
        "outputId": "85732979-d075-4b6e-9d33-2b5071948cec"
      },
      "execution_count": null,
      "outputs": [
        {
          "name": "stdout",
          "text": "what the hell!\n",
          "output_type": "stream"
        }
      ]
    },
    {
      "cell_type": "code",
      "source": [
        "# Python中字符串可以用乘法进行重复\n",
        "string_a = \"bala\"\n",
        "string_b = string_a*5\n",
        "print(string_b)"
      ],
      "metadata": {
        "trusted": true,
        "id": "8ytLlBxz5e1f",
        "outputId": "a8d50b2b-b66c-4504-af97-8fbd6e6c0cf5",
        "colab": {
          "base_uri": "https://localhost:8080/"
        }
      },
      "execution_count": null,
      "outputs": [
        {
          "output_type": "stream",
          "name": "stdout",
          "text": [
            "balabalabalabalabala\n"
          ]
        }
      ]
    },
    {
      "cell_type": "code",
      "source": [
        "string_c = \"woof\" * 3\n",
        "print(string_c)"
      ],
      "metadata": {
        "trusted": true,
        "id": "PVIsjyVe5e1g",
        "outputId": "e9857a0e-3e89-4cfb-f78f-69920117a4e6"
      },
      "execution_count": null,
      "outputs": [
        {
          "name": "stdout",
          "text": "woofwoofwoof\n",
          "output_type": "stream"
        }
      ]
    },
    {
      "cell_type": "code",
      "source": [
        "# Python中可以用str()将其他数据类型转换为string\n",
        "age = 5\n",
        "string_a = \"Waffle is \" + str(age) + \" years old.\"\n",
        "print(string_a)"
      ],
      "metadata": {
        "trusted": true,
        "id": "PR3nn7da5e1g",
        "outputId": "52159cbe-b917-43f4-f5e0-910d46354c94"
      },
      "execution_count": null,
      "outputs": [
        {
          "name": "stdout",
          "text": "Waffle is 5 years old.\n",
          "output_type": "stream"
        }
      ]
    },
    {
      "cell_type": "code",
      "source": [
        "# 【阵列 Array】Python中array需要特殊声明, 且array中只能存储同类element。\n",
        "# Array 更方便数值运算，在data scientist日常工作中，大部分都要使用numpy array来进行操作。\n",
        "import numpy as np\n",
        "\n",
        "array_1 = np.array([1, 2, 3, 4])\n",
        "print(array_1)\n",
        "print(type(array_1))\n",
        "print(array_1/2)"
      ],
      "metadata": {
        "trusted": true,
        "id": "RpnUkXNJ5e1h",
        "outputId": "d6e8edbe-62eb-475a-c29b-79f6a91cb556"
      },
      "execution_count": null,
      "outputs": [
        {
          "name": "stdout",
          "text": "[1 2 3 4]\n<class 'numpy.ndarray'>\n[0.5 1.  1.5 2. ]\n",
          "output_type": "stream"
        }
      ]
    },
    {
      "cell_type": "code",
      "source": [
        "# 【列表 List】十分常用的数据类型，看起来和array很像，但是可以存储不同类型的element，且无需特殊声明。\n",
        "list_a = [\"waffle\", 5, 25.5, True]\n",
        "empty_list = []\n",
        "matrix = [[1,2,3],\n",
        "          [4,5,6],\n",
        "          [7,8,9]]\n",
        "print(matrix)"
      ],
      "metadata": {
        "trusted": true,
        "id": "FhY3BKzV5e1h",
        "outputId": "ffc4efb6-c31f-4de7-82ae-1a4272aa39b1"
      },
      "execution_count": null,
      "outputs": [
        {
          "name": "stdout",
          "text": "[[1, 2, 3], [4, 5, 6], [7, 8, 9]]\n",
          "output_type": "stream"
        }
      ]
    },
    {
      "cell_type": "code",
      "source": [
        "# 向list末尾添加element，使用append()。\n",
        "list_a = [2,3]\n",
        "list_a.append(1)\n",
        "print(list_a)"
      ],
      "metadata": {
        "trusted": true,
        "id": "Zn0ZAz2m5e1i",
        "outputId": "c54e5379-8e27-4372-fa1f-4e29d61ea3cc"
      },
      "execution_count": null,
      "outputs": [
        {
          "name": "stdout",
          "text": "[2, 3, 1]\n",
          "output_type": "stream"
        }
      ]
    },
    {
      "cell_type": "code",
      "source": [
        "# 向list中某位置插入element，其余向后顺延，使用insert()。\n",
        "list_a = [2,3]\n",
        "list_a.insert(0,1) # 向0号位插入数值1，其余向后顺延。\n",
        "print(list_a)"
      ],
      "metadata": {
        "trusted": true,
        "id": "buRxmszn5e1i",
        "outputId": "15fec261-5f19-4dbd-9a18-d86b09f4bdf5"
      },
      "execution_count": null,
      "outputs": [
        {
          "execution_count": 49,
          "output_type": "execute_result",
          "data": {
            "text/plain": "[1, 2, 3]"
          },
          "metadata": {}
        }
      ]
    },
    {
      "cell_type": "code",
      "source": [
        "# 从list中删除某元素，使用remove()。\n",
        "# 需注意，此方法只移除该list中出现的第一个目标值。如果list中没有目标值则会报错。\n",
        "list_a = [1,2,3,1]\n",
        "list_a.remove(1)\n",
        "print(list_a)"
      ],
      "metadata": {
        "trusted": true,
        "id": "osU7W7Gu5e1i",
        "outputId": "7917bd6f-670a-44d1-9515-117fbe02ea28"
      },
      "execution_count": null,
      "outputs": [
        {
          "name": "stdout",
          "text": "[2, 3, 1]\n",
          "output_type": "stream"
        }
      ]
    },
    {
      "cell_type": "code",
      "source": [
        "# 从list中删除某位置的元素，可以使用del()。\n",
        "list_a = [1,2,3,1]\n",
        "del list_a[1:2] # 注意，左侧index包含，右侧不包含。此处删除自一号位始，截止到2号位前最后一位，不包含2号位。\n",
        "print(list_a)"
      ],
      "metadata": {
        "trusted": true,
        "id": "P_Oo03FV5e1i",
        "outputId": "b68efaa1-8e41-45a9-f373-89473e5b4006"
      },
      "execution_count": null,
      "outputs": [
        {
          "name": "stdout",
          "text": "[1, 3, 1]\n",
          "output_type": "stream"
        }
      ]
    },
    {
      "cell_type": "code",
      "source": [
        "# 【如何在String中取Character或片段；在list/array中取element(s)】\n",
        "string_a = \"abcdefghijk\"\n",
        "char_a = string_a[4]\n",
        "print(f\"char_a: '{char_a}'\")\n",
        "substring_a = string_a[2:5]\n",
        "substring_b = string_a[:-3]\n",
        "print(f\"substring_a, substring_b: \\\"{substring_a}\\\", \\\"{substring_b}\\\"\")"
      ],
      "metadata": {
        "trusted": true,
        "id": "-pRLv1Oo5e1j",
        "outputId": "a4a705fc-6483-4ea6-b0b7-f1115aa5d9b2"
      },
      "execution_count": null,
      "outputs": [
        {
          "name": "stdout",
          "text": "char_a: 'e'\nsubstring_a, substring_b: \"cde\", \"abcdefgh\"\n",
          "output_type": "stream"
        }
      ]
    },
    {
      "cell_type": "code",
      "source": [
        "list_a = [\"Waffle\", 5, 25.5, True]\n",
        "name = list_a[0]\n",
        "age, weight, had_dinner = list_a[1], list_a[2], list_a[3]\n",
        "\n",
        "print(f\"{name} is {age} years old. She is {weight} lbs. She had dinner or not? {had_dinner}.\")\n",
        "\n",
        "sublist_a = list_a[:-1]\n",
        "print(f\"sublist_a: {sublist_a}\")"
      ],
      "metadata": {
        "trusted": true,
        "id": "JYcZ8waw5e1j",
        "outputId": "98430538-7cdf-46a9-fb71-2d26abf79ed5",
        "colab": {
          "base_uri": "https://localhost:8080/"
        }
      },
      "execution_count": null,
      "outputs": [
        {
          "output_type": "stream",
          "name": "stdout",
          "text": [
            "Waffle is 5 years old. She is 25.5 lbs. She had dinner or not? True.\n",
            "sublist_a: ['Waffle', 5, 25.5]\n"
          ]
        }
      ]
    },
    {
      "cell_type": "code",
      "source": [
        "# list中的element可以是另一个list，是为2D list。\n",
        "# 在游戏类题目中经常使用2D list来表示地图。\n",
        "matrix = [[1,2,3],\n",
        "          [4,5,6],\n",
        "          [7,8,9]]\n",
        "# index为1，即查询第二个element，为第二行整个list。\n",
        "print(matrix[1])\n",
        "# 在取出第二行基础上，access其中0号element，即第一个数字。\n",
        "print(matrix[1][0])"
      ],
      "metadata": {
        "trusted": true,
        "id": "KxUYWTqo5e1j",
        "outputId": "ccfc4518-8418-4405-df79-230c6263c8ce"
      },
      "execution_count": null,
      "outputs": [
        {
          "name": "stdout",
          "text": "[4, 5, 6]\n4\n",
          "output_type": "stream"
        }
      ]
    },
    {
      "cell_type": "code",
      "source": [
        "import numpy as np\n",
        "array_a = np.zeros(5)\n",
        "print(array_a)\n",
        "array_b = array_a[3:]\n",
        "print(array_b)"
      ],
      "metadata": {
        "trusted": true,
        "id": "RXfiE8Hz5e1k",
        "outputId": "c454a052-c8f0-4adf-d8cf-ad50328971c0"
      },
      "execution_count": null,
      "outputs": [
        {
          "name": "stdout",
          "text": "[0. 0. 0. 0. 0.]\n[0. 0.]\n",
          "output_type": "stream"
        }
      ]
    },
    {
      "cell_type": "code",
      "source": [
        "# 【集合 Set】可以无序存储一些element，element可以为不同类型的变量。\n",
        "# 和list最大的区别是无序和element皆为Unique。\n",
        "set_a = {1, 'a'}\n",
        "print(set_a)\n",
        "\n",
        "# 在set中重复添加相同element，使用add()，但不会改变set内容。\n",
        "set_a.add(1)\n",
        "print(set_a)\n",
        "\n",
        "# 在set中移除element，使用remove()。\n",
        "set_a.remove('a')\n",
        "print(set_a)"
      ],
      "metadata": {
        "trusted": true,
        "id": "xOmdHnBw5e1k",
        "outputId": "3bcbde69-0e89-433b-d9d9-d9ead8cb42a8"
      },
      "execution_count": null,
      "outputs": [
        {
          "name": "stdout",
          "text": "{1, 'a'}\n{1, 'a'}\n{1}\n",
          "output_type": "stream"
        }
      ]
    },
    {
      "cell_type": "code",
      "source": [
        "# 【字典 Dictionary】字典中存储的是 key : value 对。其中key必须是唯一的，不会有两个相同的key，且一个key都只会对应一个value。\n",
        "waffle_info = {\n",
        "    \"name\": \"waffle\",\n",
        "    \"age\": 5,\n",
        "    \"gender\": \"F\",\n",
        "    \"had_dinner\": True,\n",
        "    \"feels_hungry\": True,\n",
        "    \"birthday_yy_mm_dd\": [2017, 3, 23]\n",
        "}\n",
        "print(waffle_info)\n",
        "\n",
        "# 检查字典中是否有某个key。\n",
        "dictionary_has_toy_count = \"toy_count\" in waffle_info.keys()\n",
        "print(dictionary_has_toy_count)\n",
        "\n",
        "# 向字典中添加 key-value pair。\n",
        "# 如果本来字典中已有这个key，则会改写这个key对应的value。\n",
        "waffle_info[\"toy_count\"]=88\n",
        "print(waffle_info)\n",
        "\n",
        "# 从字典中移除 key-value pair，使用del()。\n",
        "del waffle_info[\"toy_count\"]\n",
        "print(waffle_info)\n",
        "\n",
        "# 查询字典中某key对应的值\n",
        "age = waffle_info[\"age\"]\n",
        "print(f\"Waffle is {age} years old.\")"
      ],
      "metadata": {
        "trusted": true,
        "id": "sBDfwPdN5e1k",
        "outputId": "1e1e4d5b-7bdc-4d50-f417-f4ef4c4a53d0"
      },
      "execution_count": null,
      "outputs": [
        {
          "name": "stdout",
          "text": "{'name': 'waffle', 'age': 5, 'gender': 'F', 'had_dinner': True, 'feels_hungry': True, 'birthday_yy_mm_dd': [2017, 3, 23]}\nFalse\n{'name': 'waffle', 'age': 5, 'gender': 'F', 'had_dinner': True, 'feels_hungry': True, 'birthday_yy_mm_dd': [2017, 3, 23], 'toy_count': 88}\n{'name': 'waffle', 'age': 5, 'gender': 'F', 'had_dinner': True, 'feels_hungry': True, 'birthday_yy_mm_dd': [2017, 3, 23]}\nWaffle is 5 years old.\n",
          "output_type": "stream"
        }
      ]
    },
    {
      "cell_type": "code",
      "source": [
        "# 【作业一】 请从waffle_info中获得waffle的生日信息，并打印出她的出生月份。\n",
        "waffle_info = {\n",
        "    \"name\": \"waffle\",\n",
        "    \"age\": 5,\n",
        "    \"gender\": \"F\",\n",
        "    \"had_dinner\": True,\n",
        "    \"feels_hungry\": True,\n",
        "    \"birthday_yy_mm_dd\": [2017, 3, 23]\n",
        "}"
      ],
      "metadata": {
        "id": "hHsS9F9x5e1l"
      },
      "execution_count": null,
      "outputs": []
    },
    {
      "cell_type": "code",
      "source": [
        "# 【作业二】 Python中有split() function，作用是将要一个字符串分割成一个list，分割点为split()中输入的字符。如果括号内为空，则按照空格进行分割。\n",
        "example_string = \"what are you doing, waffle?\"\n",
        "example_list1 = example_string.split()\n",
        "print(f\"example_list1: {example_list1}\")\n",
        "example_list2 = example_string.split('a')\n",
        "print(f\"example_list2: {example_list2}\")\n",
        "\n",
        "# 请生成一个list，将如下input_sentence中第每个单词的前两个字母放进其中，并打印出这个list。\n",
        "input_sentence = \"When you have eliminated then impossible, whatever remains, however improbable, is the truth.\""
      ],
      "metadata": {
        "trusted": true,
        "id": "Igt0CWps5e1l",
        "outputId": "5f6ba83f-0083-426b-e120-12fc3809b4da",
        "colab": {
          "base_uri": "https://localhost:8080/"
        }
      },
      "execution_count": null,
      "outputs": [
        {
          "output_type": "stream",
          "name": "stdout",
          "text": [
            "example_list1: ['what', 'are', 'you', 'doing,', 'waffle?']\n",
            "example_list2: ['wh', 't ', 're you doing, w', 'ffle?']\n"
          ]
        }
      ]
    },
    {
      "cell_type": "code",
      "source": [
        "# 【作业三】请查询BTC，ETH，SOL，和ELON的当前价格，并且用Dictionary将四者价格进行存储并打印。建议dictionary命名为coin_prices。\n",
        "# 假如3年之后，BTC和ETC价格*2，SOL价格*10，ELON币不再存在（移出dictionary），请将这些信息在字典中更新并打印字典。"
      ],
      "metadata": {
        "id": "iX1v7QY55e1l"
      },
      "execution_count": null,
      "outputs": []
    }
  ]
}